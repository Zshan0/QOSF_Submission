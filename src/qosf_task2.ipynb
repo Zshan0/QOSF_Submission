{
  "nbformat": 4,
  "nbformat_minor": 0,
  "metadata": {
    "colab": {
      "name": "qosf_task2.ipynb",
      "provenance": [],
      "collapsed_sections": []
    },
    "kernelspec": {
      "name": "python3",
      "display_name": "Python 3"
    },
    "language_info": {
      "name": "python"
    }
  },
  "cells": [
    {
      "cell_type": "markdown",
      "metadata": {
        "id": "x5YE9ZAkUfhW"
      },
      "source": [
        "https://www.notion.so/zshan0notes/Task-2-Report-51e7f9db08664545a5b9f6bb5274cf30"
      ]
    },
    {
      "cell_type": "markdown",
      "metadata": {
        "id": "hvXv_EYlIV9V"
      },
      "source": [
        "# QOSF Task 2 $\\rightarrow$ Constructing a classifier\n",
        "\n",
        "## Problem statement\n",
        "To train a quantum variational circuit that will serve as a 4 bit map."
      ]
    },
    {
      "cell_type": "code",
      "metadata": {
        "id": "Ty2XiPclO7_q",
        "colab": {
          "base_uri": "https://localhost:8080/"
        },
        "outputId": "108715e3-4e19-4a4c-d534-29aa78041538"
      },
      "source": [
        "try:\n",
        "    import pennylane as qml\n",
        "    from pennylane import numpy as np\n",
        "    from pennylane.optimize import NesterovMomentumOptimizer\n",
        "    import matplotlib.pyplot as plt\n",
        "    plt.style.use('seaborn-whitegrid')\n",
        "except:\n",
        "    !pip install pennylane  \n",
        "    import pennylane as qml\n",
        "    from pennylane import numpy as np\n",
        "    from pennylane.optimize import NesterovMomentumOptimizer\n",
        "    import matplotlib.pyplot as plt\n",
        "    plt.style.use('seaborn-whitegrid')"
      ],
      "execution_count": 1,
      "outputs": [
        {
          "output_type": "stream",
          "name": "stdout",
          "text": [
            "Collecting pennylane\n",
            "  Downloading PennyLane-0.18.0-py3-none-any.whl (631 kB)\n",
            "\u001b[?25l\r\u001b[K     |▌                               | 10 kB 27.0 MB/s eta 0:00:01\r\u001b[K     |█                               | 20 kB 33.0 MB/s eta 0:00:01\r\u001b[K     |█▋                              | 30 kB 33.6 MB/s eta 0:00:01\r\u001b[K     |██                              | 40 kB 33.9 MB/s eta 0:00:01\r\u001b[K     |██▋                             | 51 kB 34.4 MB/s eta 0:00:01\r\u001b[K     |███▏                            | 61 kB 35.8 MB/s eta 0:00:01\r\u001b[K     |███▋                            | 71 kB 33.9 MB/s eta 0:00:01\r\u001b[K     |████▏                           | 81 kB 34.5 MB/s eta 0:00:01\r\u001b[K     |████▊                           | 92 kB 35.3 MB/s eta 0:00:01\r\u001b[K     |█████▏                          | 102 kB 37.0 MB/s eta 0:00:01\r\u001b[K     |█████▊                          | 112 kB 37.0 MB/s eta 0:00:01\r\u001b[K     |██████▎                         | 122 kB 37.0 MB/s eta 0:00:01\r\u001b[K     |██████▊                         | 133 kB 37.0 MB/s eta 0:00:01\r\u001b[K     |███████▎                        | 143 kB 37.0 MB/s eta 0:00:01\r\u001b[K     |███████▉                        | 153 kB 37.0 MB/s eta 0:00:01\r\u001b[K     |████████▎                       | 163 kB 37.0 MB/s eta 0:00:01\r\u001b[K     |████████▉                       | 174 kB 37.0 MB/s eta 0:00:01\r\u001b[K     |█████████▍                      | 184 kB 37.0 MB/s eta 0:00:01\r\u001b[K     |█████████▉                      | 194 kB 37.0 MB/s eta 0:00:01\r\u001b[K     |██████████▍                     | 204 kB 37.0 MB/s eta 0:00:01\r\u001b[K     |███████████                     | 215 kB 37.0 MB/s eta 0:00:01\r\u001b[K     |███████████▍                    | 225 kB 37.0 MB/s eta 0:00:01\r\u001b[K     |████████████                    | 235 kB 37.0 MB/s eta 0:00:01\r\u001b[K     |████████████▌                   | 245 kB 37.0 MB/s eta 0:00:01\r\u001b[K     |█████████████                   | 256 kB 37.0 MB/s eta 0:00:01\r\u001b[K     |█████████████▌                  | 266 kB 37.0 MB/s eta 0:00:01\r\u001b[K     |██████████████                  | 276 kB 37.0 MB/s eta 0:00:01\r\u001b[K     |██████████████▌                 | 286 kB 37.0 MB/s eta 0:00:01\r\u001b[K     |███████████████                 | 296 kB 37.0 MB/s eta 0:00:01\r\u001b[K     |███████████████▋                | 307 kB 37.0 MB/s eta 0:00:01\r\u001b[K     |████████████████                | 317 kB 37.0 MB/s eta 0:00:01\r\u001b[K     |████████████████▋               | 327 kB 37.0 MB/s eta 0:00:01\r\u001b[K     |█████████████████▏              | 337 kB 37.0 MB/s eta 0:00:01\r\u001b[K     |█████████████████▋              | 348 kB 37.0 MB/s eta 0:00:01\r\u001b[K     |██████████████████▏             | 358 kB 37.0 MB/s eta 0:00:01\r\u001b[K     |██████████████████▊             | 368 kB 37.0 MB/s eta 0:00:01\r\u001b[K     |███████████████████▏            | 378 kB 37.0 MB/s eta 0:00:01\r\u001b[K     |███████████████████▊            | 389 kB 37.0 MB/s eta 0:00:01\r\u001b[K     |████████████████████▎           | 399 kB 37.0 MB/s eta 0:00:01\r\u001b[K     |████████████████████▊           | 409 kB 37.0 MB/s eta 0:00:01\r\u001b[K     |█████████████████████▎          | 419 kB 37.0 MB/s eta 0:00:01\r\u001b[K     |█████████████████████▉          | 430 kB 37.0 MB/s eta 0:00:01\r\u001b[K     |██████████████████████▎         | 440 kB 37.0 MB/s eta 0:00:01\r\u001b[K     |██████████████████████▉         | 450 kB 37.0 MB/s eta 0:00:01\r\u001b[K     |███████████████████████▍        | 460 kB 37.0 MB/s eta 0:00:01\r\u001b[K     |███████████████████████▉        | 471 kB 37.0 MB/s eta 0:00:01\r\u001b[K     |████████████████████████▍       | 481 kB 37.0 MB/s eta 0:00:01\r\u001b[K     |█████████████████████████       | 491 kB 37.0 MB/s eta 0:00:01\r\u001b[K     |█████████████████████████▍      | 501 kB 37.0 MB/s eta 0:00:01\r\u001b[K     |██████████████████████████      | 512 kB 37.0 MB/s eta 0:00:01\r\u001b[K     |██████████████████████████▌     | 522 kB 37.0 MB/s eta 0:00:01\r\u001b[K     |███████████████████████████     | 532 kB 37.0 MB/s eta 0:00:01\r\u001b[K     |███████████████████████████▌    | 542 kB 37.0 MB/s eta 0:00:01\r\u001b[K     |████████████████████████████    | 552 kB 37.0 MB/s eta 0:00:01\r\u001b[K     |████████████████████████████▌   | 563 kB 37.0 MB/s eta 0:00:01\r\u001b[K     |█████████████████████████████   | 573 kB 37.0 MB/s eta 0:00:01\r\u001b[K     |█████████████████████████████▋  | 583 kB 37.0 MB/s eta 0:00:01\r\u001b[K     |██████████████████████████████  | 593 kB 37.0 MB/s eta 0:00:01\r\u001b[K     |██████████████████████████████▋ | 604 kB 37.0 MB/s eta 0:00:01\r\u001b[K     |███████████████████████████████▏| 614 kB 37.0 MB/s eta 0:00:01\r\u001b[K     |███████████████████████████████▋| 624 kB 37.0 MB/s eta 0:00:01\r\u001b[K     |████████████████████████████████| 631 kB 37.0 MB/s \n",
            "\u001b[?25hRequirement already satisfied: autograd in /usr/local/lib/python3.7/dist-packages (from pennylane) (1.3)\n",
            "Requirement already satisfied: appdirs in /usr/local/lib/python3.7/dist-packages (from pennylane) (1.4.4)\n",
            "Requirement already satisfied: networkx in /usr/local/lib/python3.7/dist-packages (from pennylane) (2.6.3)\n",
            "Requirement already satisfied: scipy in /usr/local/lib/python3.7/dist-packages (from pennylane) (1.4.1)\n",
            "Collecting autoray\n",
            "  Downloading autoray-0.2.5-py3-none-any.whl (16 kB)\n",
            "Requirement already satisfied: numpy in /usr/local/lib/python3.7/dist-packages (from pennylane) (1.19.5)\n",
            "Collecting pennylane-lightning>=0.18\n",
            "  Downloading PennyLane_Lightning-0.18.0-cp37-cp37m-manylinux2010_x86_64.whl (4.4 MB)\n",
            "\u001b[K     |████████████████████████████████| 4.4 MB 36.5 MB/s \n",
            "\u001b[?25hRequirement already satisfied: toml in /usr/local/lib/python3.7/dist-packages (from pennylane) (0.10.2)\n",
            "Collecting semantic-version==2.6\n",
            "  Downloading semantic_version-2.6.0-py3-none-any.whl (14 kB)\n",
            "Requirement already satisfied: cachetools in /usr/local/lib/python3.7/dist-packages (from pennylane) (4.2.2)\n",
            "Requirement already satisfied: future>=0.15.2 in /usr/local/lib/python3.7/dist-packages (from autograd->pennylane) (0.16.0)\n",
            "Installing collected packages: semantic-version, pennylane-lightning, autoray, pennylane\n",
            "Successfully installed autoray-0.2.5 pennylane-0.18.0 pennylane-lightning-0.18.0 semantic-version-2.6.0\n"
          ]
        }
      ]
    },
    {
      "cell_type": "markdown",
      "metadata": {
        "id": "LomgdK7IIxbR"
      },
      "source": [
        "$$\n",
        "map(\\text{input_state}[i]) = \\text{output_state}[i]\n",
        "$$"
      ]
    },
    {
      "cell_type": "markdown",
      "metadata": {
        "id": "qlmzN5OymLpy"
      },
      "source": [
        "## Setting random quantum states\n",
        "$$\n",
        "|0000\\rangle \\rightarrow |0011\\rangle \\\\\n",
        "|0001\\rangle \\rightarrow |0101\\rangle \\\\\n",
        "|0010\\rangle \\rightarrow |1010\\rangle \\\\\n",
        "|0011\\rangle \\rightarrow |1100\\rangle \\\\\n",
        "$$"
      ]
    },
    {
      "cell_type": "code",
      "metadata": {
        "id": "gq_tlkc5IcUs"
      },
      "source": [
        "input_states = np.array([[0, 0, 0, 0],[0, 0, 0, 1],[0, 0, 1, 0], [0, 0, 1, 1]])\n",
        "output_states = np.array([[0, 0, 1, 1],[0, 1, 0, 1],[1, 0, 1, 0], [1, 1, 0, 0]])"
      ],
      "execution_count": 2,
      "outputs": []
    },
    {
      "cell_type": "markdown",
      "metadata": {
        "id": "MysRDZfIJ6b8"
      },
      "source": [
        "For making the classification more distinct will transform the target bits into:\n",
        "$$\n",
        "    0 \\rightarrow -1\\\\\n",
        "    1 \\rightarrow 1\n",
        "$$"
      ]
    },
    {
      "cell_type": "code",
      "metadata": {
        "id": "EBmsG9iqZZW7"
      },
      "source": [
        "def Y_transform(y):\n",
        "    return 2 * y - 1"
      ],
      "execution_count": 3,
      "outputs": []
    },
    {
      "cell_type": "code",
      "metadata": {
        "id": "c-YMglyhJNvg"
      },
      "source": [
        "dev = qml.device(\"default.qubit\", wires=4)"
      ],
      "execution_count": 4,
      "outputs": []
    },
    {
      "cell_type": "markdown",
      "metadata": {
        "id": "M_RdGUhLL1uJ"
      },
      "source": [
        "Setting 3 layers of gates with a rotation followed by CNOTS and another layer of rotation"
      ]
    },
    {
      "cell_type": "code",
      "metadata": {
        "id": "pqix8Ux8JSW_"
      },
      "source": [
        "def layer(W):\n",
        "    # each rotation matrix takes in 3 inputs (phi, theta, omega)\n",
        "    qml.Rot(W[0, 0], W[0, 1], W[0, 2], wires=0)\n",
        "    qml.Rot(W[1, 0], W[1, 1], W[1, 2], wires=1)\n",
        "    qml.Rot(W[2, 0], W[2, 1], W[2, 2], wires=2)\n",
        "    qml.Rot(W[3, 0], W[3, 1], W[3, 2], wires=3)\n",
        "\n",
        "    qml.CNOT(wires=[0, 1])\n",
        "    qml.CNOT(wires=[1, 2])\n",
        "    qml.CNOT(wires=[2, 3])\n",
        "    qml.CNOT(wires=[3, 0])\n",
        "    \n",
        "    qml.Rot(W[0, 0], W[0, 1], W[0, 2], wires=0)\n",
        "    qml.Rot(W[1, 0], W[1, 1], W[1, 2], wires=1)\n",
        "    qml.Rot(W[2, 0], W[2, 1], W[2, 2], wires=2)\n",
        "    qml.Rot(W[3, 0], W[3, 1], W[3, 2], wires=3)"
      ],
      "execution_count": 5,
      "outputs": []
    },
    {
      "cell_type": "code",
      "metadata": {
        "id": "ug7m1lPmJT-6"
      },
      "source": [
        "def statepreparation(x):\n",
        "    qml.BasisState(x, wires=[0, 1, 2, 3])"
      ],
      "execution_count": 6,
      "outputs": []
    },
    {
      "cell_type": "markdown",
      "metadata": {
        "id": "QsckoCq3R1Aj"
      },
      "source": [
        "## Circuit\n",
        "The circuit at the end will have to do a measurement to convert the states into classical bits so that the loss can be calculated\n",
        "\n",
        "we apply `PauliZ` on all the qubits and then return the expected value on the observable."
      ]
    },
    {
      "cell_type": "code",
      "metadata": {
        "id": "HxtUa_f_Jrnp"
      },
      "source": [
        "def circuit(weights, x):\n",
        "    statepreparation(x)\n",
        "\n",
        "    # weights is a matrix\n",
        "    for W in weights:\n",
        "        layer(W)\n"
      ],
      "execution_count": 7,
      "outputs": []
    },
    {
      "cell_type": "code",
      "metadata": {
        "id": "klEoUZOtKAt4"
      },
      "source": [
        "@qml.qnode(dev)\n",
        "def variational_classifier(var, x):\n",
        "    weights = var\n",
        "    circuit(weights, x) \n",
        "    return [qml.expval(qml.PauliZ(x)) for x in range(4)] # because 1 and -1 "
      ],
      "execution_count": 8,
      "outputs": []
    },
    {
      "cell_type": "markdown",
      "metadata": {
        "id": "Y2k_7P1PNtUl"
      },
      "source": [
        "## Loss\n",
        "Mean Squared Error between the expected and the output is set to be the loss\n",
        "\n",
        "## Accuracy\n",
        "Accuracy is the number of correct predictions with a small margin of error\n",
        "\n",
        "## Cost\n",
        "The cost is just MSE over all(4) predictions and targets"
      ]
    },
    {
      "cell_type": "code",
      "metadata": {
        "id": "86ME-IEMKE_n"
      },
      "source": [
        "def square_loss(labels, predictions):\n",
        "    return np.mean(np.array([np.sum((l - p) ** 2) for l, p in zip(labels, predictions)]))"
      ],
      "execution_count": 9,
      "outputs": []
    },
    {
      "cell_type": "code",
      "metadata": {
        "id": "wkPnVBzZKYCS"
      },
      "source": [
        "def accuracy(labels, predictions, err = 1e-5):\n",
        "    return np.mean(np.array([int(abs(np.sum(l - p)) < err) for l, p in zip(labels, predictions)]))"
      ],
      "execution_count": 10,
      "outputs": []
    },
    {
      "cell_type": "code",
      "metadata": {
        "id": "xlzGcJWAKvVo"
      },
      "source": [
        "def cost(var, X, Y):\n",
        "    return square_loss(Y, [variational_classifier(var, x) for x in X])"
      ],
      "execution_count": 11,
      "outputs": []
    },
    {
      "cell_type": "code",
      "metadata": {
        "id": "RbGwkzO0LBXo"
      },
      "source": [
        "X = input_states\n",
        "Y = Y_transform(output_states)"
      ],
      "execution_count": 12,
      "outputs": []
    },
    {
      "cell_type": "markdown",
      "metadata": {
        "id": "tkWoTGFhnjpY"
      },
      "source": [
        "Setting the learning rate low since the values are sensitive"
      ]
    },
    {
      "cell_type": "code",
      "metadata": {
        "id": "QRW5PSSTLhUY"
      },
      "source": [
        "opt = NesterovMomentumOptimizer(0.01)\n",
        "batch_size = 4 # Since there are only 4 samples"
      ],
      "execution_count": 13,
      "outputs": []
    },
    {
      "cell_type": "markdown",
      "metadata": {
        "id": "JoscnXyvnqBA"
      },
      "source": [
        "The initiale values of the weights are set to be small random values"
      ]
    },
    {
      "cell_type": "code",
      "metadata": {
        "id": "UqwdsdCRaDhz"
      },
      "source": [
        "np.random.seed(0)\n",
        "num_qubits = 4\n",
        "num_layers = 3\n",
        "var_init = 0.01 * np.random.randn(num_layers, num_qubits, 3)"
      ],
      "execution_count": 14,
      "outputs": []
    },
    {
      "cell_type": "markdown",
      "metadata": {
        "id": "UjujgpVpnv7A"
      },
      "source": [
        "### Training"
      ]
    },
    {
      "cell_type": "code",
      "metadata": {
        "colab": {
          "base_uri": "https://localhost:8080/"
        },
        "id": "KF0QD5WdMWfi",
        "outputId": "7892bbfa-9801-49a0-d333-c232c73396d9"
      },
      "source": [
        "var = var_init\n",
        "\n",
        "for it in range(200):\n",
        "\n",
        "    # Update the weights by one optimizer step\n",
        "    batch_index = np.random.randint(0, len(X), (batch_size,))\n",
        "    X_batch = X[batch_index]\n",
        "    Y_batch = Y[batch_index]\n",
        "    var = opt.step(lambda v: cost(v, X_batch, Y_batch), var)\n",
        "\n",
        "    predictions = [np.sign(variational_classifier(var, x)) for x in X]\n",
        "    acc = accuracy(Y, predictions)\n",
        "    cost_val = cost(var, X, Y)\n",
        "    \n",
        "    if cost_val < 0.6:\n",
        "        break\n",
        "    print(\n",
        "        \"Iter: {:5d} | Cost: {:0.7f} | Accuracy: {:0.7f} \".format(\n",
        "            it + 1, cost_val, acc\n",
        "        )\n",
        "    )"
      ],
      "execution_count": 15,
      "outputs": [
        {
          "output_type": "stream",
          "name": "stdout",
          "text": [
            "Iter:     1 | Cost: 7.9884350 | Accuracy: 0.7500000 \n",
            "Iter:     2 | Cost: 7.9792539 | Accuracy: 0.7500000 \n",
            "Iter:     3 | Cost: 7.9559459 | Accuracy: 0.7500000 \n",
            "Iter:     4 | Cost: 7.8982185 | Accuracy: 0.7500000 \n",
            "Iter:     5 | Cost: 7.7575614 | Accuracy: 0.7500000 \n",
            "Iter:     6 | Cost: 7.4302649 | Accuracy: 0.7500000 \n",
            "Iter:     7 | Cost: 6.7731560 | Accuracy: 0.7500000 \n",
            "Iter:     8 | Cost: 5.7770169 | Accuracy: 0.7500000 \n",
            "Iter:     9 | Cost: 4.7829131 | Accuracy: 0.7500000 \n",
            "Iter:    10 | Cost: 4.1742929 | Accuracy: 0.7500000 \n",
            "Iter:    11 | Cost: 3.9411120 | Accuracy: 0.5000000 \n",
            "Iter:    12 | Cost: 3.8857454 | Accuracy: 0.2500000 \n",
            "Iter:    13 | Cost: 3.8568668 | Accuracy: 0.2500000 \n",
            "Iter:    14 | Cost: 3.7954571 | Accuracy: 0.0000000 \n",
            "Iter:    15 | Cost: 3.6449191 | Accuracy: 0.0000000 \n",
            "Iter:    16 | Cost: 3.4141273 | Accuracy: 0.2500000 \n",
            "Iter:    17 | Cost: 3.1490518 | Accuracy: 0.2500000 \n",
            "Iter:    18 | Cost: 2.9294497 | Accuracy: 0.5000000 \n",
            "Iter:    19 | Cost: 2.8387169 | Accuracy: 0.5000000 \n",
            "Iter:    20 | Cost: 2.8669070 | Accuracy: 0.2500000 \n",
            "Iter:    21 | Cost: 2.9319312 | Accuracy: 0.2500000 \n",
            "Iter:    22 | Cost: 2.9813928 | Accuracy: 0.2500000 \n",
            "Iter:    23 | Cost: 2.9804784 | Accuracy: 0.2500000 \n",
            "Iter:    24 | Cost: 2.9755777 | Accuracy: 0.2500000 \n",
            "Iter:    25 | Cost: 2.9521007 | Accuracy: 0.2500000 \n",
            "Iter:    26 | Cost: 2.9202477 | Accuracy: 0.2500000 \n",
            "Iter:    27 | Cost: 2.8767481 | Accuracy: 0.5000000 \n",
            "Iter:    28 | Cost: 2.8038482 | Accuracy: 0.5000000 \n",
            "Iter:    29 | Cost: 2.7335451 | Accuracy: 0.2500000 \n",
            "Iter:    30 | Cost: 2.6627596 | Accuracy: 0.5000000 \n",
            "Iter:    31 | Cost: 2.6076895 | Accuracy: 0.5000000 \n",
            "Iter:    32 | Cost: 2.5558642 | Accuracy: 0.5000000 \n",
            "Iter:    33 | Cost: 2.5091240 | Accuracy: 0.5000000 \n",
            "Iter:    34 | Cost: 2.4731683 | Accuracy: 0.7500000 \n",
            "Iter:    35 | Cost: 2.4396812 | Accuracy: 0.7500000 \n",
            "Iter:    36 | Cost: 2.4061381 | Accuracy: 0.7500000 \n",
            "Iter:    37 | Cost: 2.3838481 | Accuracy: 1.0000000 \n",
            "Iter:    38 | Cost: 2.3664057 | Accuracy: 0.5000000 \n",
            "Iter:    39 | Cost: 2.3563480 | Accuracy: 0.7500000 \n",
            "Iter:    40 | Cost: 2.3513428 | Accuracy: 0.7500000 \n",
            "Iter:    41 | Cost: 2.3272174 | Accuracy: 0.7500000 \n",
            "Iter:    42 | Cost: 2.2945370 | Accuracy: 0.5000000 \n",
            "Iter:    43 | Cost: 2.2493699 | Accuracy: 0.5000000 \n",
            "Iter:    44 | Cost: 2.1929151 | Accuracy: 0.5000000 \n",
            "Iter:    45 | Cost: 2.1253810 | Accuracy: 0.5000000 \n",
            "Iter:    46 | Cost: 2.0645773 | Accuracy: 0.5000000 \n",
            "Iter:    47 | Cost: 2.0021659 | Accuracy: 0.5000000 \n",
            "Iter:    48 | Cost: 1.9425223 | Accuracy: 0.5000000 \n",
            "Iter:    49 | Cost: 1.8906076 | Accuracy: 0.5000000 \n",
            "Iter:    50 | Cost: 1.8540963 | Accuracy: 0.5000000 \n",
            "Iter:    51 | Cost: 1.8235559 | Accuracy: 0.5000000 \n",
            "Iter:    52 | Cost: 1.7876877 | Accuracy: 0.5000000 \n",
            "Iter:    53 | Cost: 1.7596542 | Accuracy: 0.5000000 \n",
            "Iter:    54 | Cost: 1.7223274 | Accuracy: 0.5000000 \n",
            "Iter:    55 | Cost: 1.6965575 | Accuracy: 0.5000000 \n",
            "Iter:    56 | Cost: 1.6791131 | Accuracy: 0.5000000 \n",
            "Iter:    57 | Cost: 1.6535581 | Accuracy: 0.5000000 \n",
            "Iter:    58 | Cost: 1.6310117 | Accuracy: 0.5000000 \n",
            "Iter:    59 | Cost: 1.6133756 | Accuracy: 0.5000000 \n",
            "Iter:    60 | Cost: 1.5977831 | Accuracy: 0.5000000 \n",
            "Iter:    61 | Cost: 1.5843781 | Accuracy: 0.5000000 \n",
            "Iter:    62 | Cost: 1.5694185 | Accuracy: 0.5000000 \n",
            "Iter:    63 | Cost: 1.5480012 | Accuracy: 0.5000000 \n",
            "Iter:    64 | Cost: 1.5241841 | Accuracy: 0.5000000 \n",
            "Iter:    65 | Cost: 1.5037206 | Accuracy: 0.5000000 \n",
            "Iter:    66 | Cost: 1.4872696 | Accuracy: 0.5000000 \n",
            "Iter:    67 | Cost: 1.4724232 | Accuracy: 0.5000000 \n",
            "Iter:    68 | Cost: 1.4625082 | Accuracy: 0.5000000 \n",
            "Iter:    69 | Cost: 1.4550315 | Accuracy: 0.5000000 \n",
            "Iter:    70 | Cost: 1.4561107 | Accuracy: 0.5000000 \n",
            "Iter:    71 | Cost: 1.4569001 | Accuracy: 0.5000000 \n",
            "Iter:    72 | Cost: 1.4493029 | Accuracy: 0.5000000 \n",
            "Iter:    73 | Cost: 1.4419110 | Accuracy: 0.5000000 \n",
            "Iter:    74 | Cost: 1.4360443 | Accuracy: 0.5000000 \n",
            "Iter:    75 | Cost: 1.4362880 | Accuracy: 0.5000000 \n",
            "Iter:    76 | Cost: 1.4330890 | Accuracy: 0.5000000 \n",
            "Iter:    77 | Cost: 1.4236733 | Accuracy: 0.5000000 \n",
            "Iter:    78 | Cost: 1.4096177 | Accuracy: 0.5000000 \n",
            "Iter:    79 | Cost: 1.3938746 | Accuracy: 0.5000000 \n",
            "Iter:    80 | Cost: 1.3809983 | Accuracy: 0.5000000 \n",
            "Iter:    81 | Cost: 1.3725356 | Accuracy: 0.5000000 \n",
            "Iter:    82 | Cost: 1.3650733 | Accuracy: 0.5000000 \n",
            "Iter:    83 | Cost: 1.3592582 | Accuracy: 0.5000000 \n",
            "Iter:    84 | Cost: 1.3529533 | Accuracy: 0.5000000 \n",
            "Iter:    85 | Cost: 1.3462934 | Accuracy: 0.5000000 \n",
            "Iter:    86 | Cost: 1.3393964 | Accuracy: 0.5000000 \n",
            "Iter:    87 | Cost: 1.3329564 | Accuracy: 0.5000000 \n",
            "Iter:    88 | Cost: 1.3264395 | Accuracy: 0.5000000 \n",
            "Iter:    89 | Cost: 1.3210618 | Accuracy: 0.5000000 \n",
            "Iter:    90 | Cost: 1.3166349 | Accuracy: 0.5000000 \n",
            "Iter:    91 | Cost: 1.3117348 | Accuracy: 0.5000000 \n",
            "Iter:    92 | Cost: 1.3062946 | Accuracy: 0.5000000 \n",
            "Iter:    93 | Cost: 1.2998506 | Accuracy: 0.5000000 \n",
            "Iter:    94 | Cost: 1.2926869 | Accuracy: 0.5000000 \n",
            "Iter:    95 | Cost: 1.2846113 | Accuracy: 0.5000000 \n",
            "Iter:    96 | Cost: 1.2771548 | Accuracy: 0.5000000 \n",
            "Iter:    97 | Cost: 1.2705773 | Accuracy: 0.5000000 \n",
            "Iter:    98 | Cost: 1.2641552 | Accuracy: 0.5000000 \n",
            "Iter:    99 | Cost: 1.2597899 | Accuracy: 0.5000000 \n",
            "Iter:   100 | Cost: 1.2509011 | Accuracy: 0.5000000 \n",
            "Iter:   101 | Cost: 1.2410662 | Accuracy: 0.5000000 \n",
            "Iter:   102 | Cost: 1.2284688 | Accuracy: 0.5000000 \n",
            "Iter:   103 | Cost: 1.2138892 | Accuracy: 0.5000000 \n",
            "Iter:   104 | Cost: 1.2032622 | Accuracy: 0.5000000 \n",
            "Iter:   105 | Cost: 1.1922879 | Accuracy: 0.5000000 \n",
            "Iter:   106 | Cost: 1.1802102 | Accuracy: 0.5000000 \n",
            "Iter:   107 | Cost: 1.1693334 | Accuracy: 0.7500000 \n",
            "Iter:   108 | Cost: 1.1587675 | Accuracy: 0.7500000 \n",
            "Iter:   109 | Cost: 1.1448902 | Accuracy: 0.7500000 \n",
            "Iter:   110 | Cost: 1.1322605 | Accuracy: 0.7500000 \n",
            "Iter:   111 | Cost: 1.1173313 | Accuracy: 0.7500000 \n",
            "Iter:   112 | Cost: 1.1007674 | Accuracy: 0.7500000 \n",
            "Iter:   113 | Cost: 1.0865447 | Accuracy: 0.7500000 \n",
            "Iter:   114 | Cost: 1.0737523 | Accuracy: 0.7500000 \n",
            "Iter:   115 | Cost: 1.0624862 | Accuracy: 0.7500000 \n",
            "Iter:   116 | Cost: 1.0522717 | Accuracy: 0.7500000 \n",
            "Iter:   117 | Cost: 1.0491081 | Accuracy: 0.7500000 \n",
            "Iter:   118 | Cost: 1.0414362 | Accuracy: 0.7500000 \n",
            "Iter:   119 | Cost: 1.0369213 | Accuracy: 0.7500000 \n",
            "Iter:   120 | Cost: 1.0272473 | Accuracy: 0.7500000 \n",
            "Iter:   121 | Cost: 1.0112956 | Accuracy: 0.7500000 \n",
            "Iter:   122 | Cost: 0.9810336 | Accuracy: 0.7500000 \n",
            "Iter:   123 | Cost: 0.9531691 | Accuracy: 0.7500000 \n",
            "Iter:   124 | Cost: 0.9296740 | Accuracy: 0.7500000 \n",
            "Iter:   125 | Cost: 0.9109171 | Accuracy: 0.7500000 \n",
            "Iter:   126 | Cost: 0.8872151 | Accuracy: 0.7500000 \n",
            "Iter:   127 | Cost: 0.8682587 | Accuracy: 0.7500000 \n",
            "Iter:   128 | Cost: 0.8474998 | Accuracy: 0.7500000 \n",
            "Iter:   129 | Cost: 0.8221666 | Accuracy: 1.0000000 \n",
            "Iter:   130 | Cost: 0.7953275 | Accuracy: 1.0000000 \n",
            "Iter:   131 | Cost: 0.7721605 | Accuracy: 1.0000000 \n",
            "Iter:   132 | Cost: 0.7537736 | Accuracy: 1.0000000 \n",
            "Iter:   133 | Cost: 0.7396026 | Accuracy: 1.0000000 \n",
            "Iter:   134 | Cost: 0.7313436 | Accuracy: 1.0000000 \n",
            "Iter:   135 | Cost: 0.7229223 | Accuracy: 1.0000000 \n",
            "Iter:   136 | Cost: 0.7167690 | Accuracy: 1.0000000 \n",
            "Iter:   137 | Cost: 0.7112804 | Accuracy: 1.0000000 \n",
            "Iter:   138 | Cost: 0.7039125 | Accuracy: 1.0000000 \n",
            "Iter:   139 | Cost: 0.6949330 | Accuracy: 1.0000000 \n",
            "Iter:   140 | Cost: 0.6877737 | Accuracy: 1.0000000 \n",
            "Iter:   141 | Cost: 0.6767118 | Accuracy: 1.0000000 \n",
            "Iter:   142 | Cost: 0.6693458 | Accuracy: 1.0000000 \n",
            "Iter:   143 | Cost: 0.6648182 | Accuracy: 1.0000000 \n",
            "Iter:   144 | Cost: 0.6620042 | Accuracy: 1.0000000 \n",
            "Iter:   145 | Cost: 0.6596990 | Accuracy: 1.0000000 \n",
            "Iter:   146 | Cost: 0.6593999 | Accuracy: 1.0000000 \n",
            "Iter:   147 | Cost: 0.6594240 | Accuracy: 1.0000000 \n",
            "Iter:   148 | Cost: 0.6599991 | Accuracy: 1.0000000 \n",
            "Iter:   149 | Cost: 0.6620814 | Accuracy: 1.0000000 \n",
            "Iter:   150 | Cost: 0.6630859 | Accuracy: 1.0000000 \n",
            "Iter:   151 | Cost: 0.6628809 | Accuracy: 1.0000000 \n",
            "Iter:   152 | Cost: 0.6649246 | Accuracy: 1.0000000 \n",
            "Iter:   153 | Cost: 0.6654952 | Accuracy: 1.0000000 \n",
            "Iter:   154 | Cost: 0.6640384 | Accuracy: 1.0000000 \n",
            "Iter:   155 | Cost: 0.6572214 | Accuracy: 1.0000000 \n",
            "Iter:   156 | Cost: 0.6484092 | Accuracy: 1.0000000 \n",
            "Iter:   157 | Cost: 0.6421393 | Accuracy: 1.0000000 \n",
            "Iter:   158 | Cost: 0.6392340 | Accuracy: 1.0000000 \n",
            "Iter:   159 | Cost: 0.6366065 | Accuracy: 1.0000000 \n",
            "Iter:   160 | Cost: 0.6365703 | Accuracy: 1.0000000 \n",
            "Iter:   161 | Cost: 0.6388785 | Accuracy: 1.0000000 \n",
            "Iter:   162 | Cost: 0.6434092 | Accuracy: 1.0000000 \n",
            "Iter:   163 | Cost: 0.6480356 | Accuracy: 1.0000000 \n",
            "Iter:   164 | Cost: 0.6557725 | Accuracy: 1.0000000 \n",
            "Iter:   165 | Cost: 0.6578495 | Accuracy: 1.0000000 \n",
            "Iter:   166 | Cost: 0.6582789 | Accuracy: 1.0000000 \n",
            "Iter:   167 | Cost: 0.6568680 | Accuracy: 1.0000000 \n",
            "Iter:   168 | Cost: 0.6614930 | Accuracy: 1.0000000 \n",
            "Iter:   169 | Cost: 0.6671701 | Accuracy: 1.0000000 \n",
            "Iter:   170 | Cost: 0.6660400 | Accuracy: 1.0000000 \n",
            "Iter:   171 | Cost: 0.6708055 | Accuracy: 1.0000000 \n",
            "Iter:   172 | Cost: 0.6718979 | Accuracy: 1.0000000 \n",
            "Iter:   173 | Cost: 0.6696649 | Accuracy: 1.0000000 \n",
            "Iter:   174 | Cost: 0.6690611 | Accuracy: 1.0000000 \n",
            "Iter:   175 | Cost: 0.6646276 | Accuracy: 1.0000000 \n",
            "Iter:   176 | Cost: 0.6578431 | Accuracy: 1.0000000 \n",
            "Iter:   177 | Cost: 0.6507624 | Accuracy: 1.0000000 \n",
            "Iter:   178 | Cost: 0.6411132 | Accuracy: 1.0000000 \n",
            "Iter:   179 | Cost: 0.6335452 | Accuracy: 1.0000000 \n",
            "Iter:   180 | Cost: 0.6274988 | Accuracy: 1.0000000 \n",
            "Iter:   181 | Cost: 0.6247541 | Accuracy: 1.0000000 \n",
            "Iter:   182 | Cost: 0.6248543 | Accuracy: 1.0000000 \n",
            "Iter:   183 | Cost: 0.6256717 | Accuracy: 1.0000000 \n",
            "Iter:   184 | Cost: 0.6271498 | Accuracy: 1.0000000 \n",
            "Iter:   185 | Cost: 0.6272005 | Accuracy: 1.0000000 \n",
            "Iter:   186 | Cost: 0.6258874 | Accuracy: 1.0000000 \n",
            "Iter:   187 | Cost: 0.6249042 | Accuracy: 1.0000000 \n",
            "Iter:   188 | Cost: 0.6234753 | Accuracy: 1.0000000 \n",
            "Iter:   189 | Cost: 0.6206969 | Accuracy: 1.0000000 \n",
            "Iter:   190 | Cost: 0.6197882 | Accuracy: 1.0000000 \n",
            "Iter:   191 | Cost: 0.6195409 | Accuracy: 1.0000000 \n",
            "Iter:   192 | Cost: 0.6221929 | Accuracy: 1.0000000 \n",
            "Iter:   193 | Cost: 0.6267451 | Accuracy: 1.0000000 \n",
            "Iter:   194 | Cost: 0.6326519 | Accuracy: 1.0000000 \n",
            "Iter:   195 | Cost: 0.6378136 | Accuracy: 1.0000000 \n",
            "Iter:   196 | Cost: 0.6469099 | Accuracy: 1.0000000 \n",
            "Iter:   197 | Cost: 0.6541159 | Accuracy: 1.0000000 \n",
            "Iter:   198 | Cost: 0.6680192 | Accuracy: 1.0000000 \n",
            "Iter:   199 | Cost: 0.6818578 | Accuracy: 1.0000000 \n",
            "Iter:   200 | Cost: 0.6856744 | Accuracy: 1.0000000 \n"
          ]
        }
      ]
    },
    {
      "cell_type": "code",
      "metadata": {
        "id": "7z3547QEUy-N"
      },
      "source": [
        "def to_bit(x):\n",
        "    l = list(\"{0:b}\".format(x))\n",
        "    l = [int(x) for x in l]\n",
        "    while len(l) != 4:\n",
        "        l.insert(0, 0)\n",
        "    return l"
      ],
      "execution_count": 16,
      "outputs": []
    },
    {
      "cell_type": "code",
      "metadata": {
        "id": "BssJJDkRXFG3"
      },
      "source": [
        "def to_num(x):\n",
        "    x = x[::-1]\n",
        "    return sum([(x[i] * (2**i)) for i in range(len(x))])"
      ],
      "execution_count": 17,
      "outputs": []
    },
    {
      "cell_type": "code",
      "metadata": {
        "id": "7PsMuW38Wvru"
      },
      "source": [
        "def predict(x):\n",
        "    ''' Assuming that the input is np.array of 4 bits(0 or 1)'''\n",
        "    y = np.sign(variational_classifier(var, x))\n",
        "    y = np.array([int(l == 1) for l in y]) # converting it back to bits\n",
        "    return y"
      ],
      "execution_count": 18,
      "outputs": []
    },
    {
      "cell_type": "code",
      "metadata": {
        "id": "gradtwlTMsv_"
      },
      "source": [
        "x = list(range(16))\n",
        "y = []\n",
        "for i in x:\n",
        "    j = predict(to_bit(i))\n",
        "    j = j.numpy()\n",
        "    y.append(to_num(j))\n",
        "\n",
        "x_actual = [to_num(i) for i in input_states]\n",
        "y_actual = [to_num(i) for i in output_states]\n",
        "\n",
        "labels = ['|' + ''.join([str(l)  for l in to_bit(i)]) + '>' for i in x]"
      ],
      "execution_count": 19,
      "outputs": []
    },
    {
      "cell_type": "markdown",
      "metadata": {
        "id": "4FY85gBRjGnL"
      },
      "source": [
        "## Plotting the classifier output\n",
        "\n",
        "We convert the bits into integer based on big endian conversion. This will allow us to plot the expected answer and the prediction for the values that haven't been trained."
      ]
    },
    {
      "cell_type": "code",
      "metadata": {
        "id": "e_n6MGEw8OIe",
        "colab": {
          "base_uri": "https://localhost:8080/",
          "height": 333
        },
        "outputId": "37001af7-ae42-4ef7-dcba-908828605906"
      },
      "source": [
        "f, ax = plt.subplots(1, 1, figsize=(10, 5))\n",
        "ax.set_xticks(x)\n",
        "ax.set_xticklabels(labels)\n",
        "ax.set_yticks(x)\n",
        "ax.set_yticklabels(labels)\n",
        "plt.scatter(x, y, color='yellow', alpha=0.8, s=80)\n",
        "plt.scatter(x_actual, y_actual, color='black', alpha=1, s=20)"
      ],
      "execution_count": 20,
      "outputs": [
        {
          "output_type": "execute_result",
          "data": {
            "text/plain": [
              "<matplotlib.collections.PathCollection at 0x7f9fbf5b13d0>"
            ]
          },
          "metadata": {},
          "execution_count": 20
        },
        {
          "output_type": "display_data",
          "data": {
            "image/png": "[encoded data removed]",
            "text/plain": [
              "<Figure size 720x360 with 1 Axes>"
            ]
          },
          "metadata": {
            "needs_background": "light"
          }
        }
      ]
    }
  ]
}